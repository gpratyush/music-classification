{
 "cells": [
  {
   "cell_type": "code",
   "execution_count": 1,
   "id": "84b42f8a-2576-4d49-a560-6c1041995c45",
   "metadata": {
    "tags": []
   },
   "outputs": [],
   "source": [
    "import sys\n",
    "sys.path.append(\"../..\")"
   ]
  },
  {
   "cell_type": "code",
   "execution_count": 2,
   "id": "9870817a-90e5-4342-9570-8ec693f27385",
   "metadata": {
    "tags": []
   },
   "outputs": [],
   "source": [
    "from tqdm import tqdm\n",
    "import pandas as pd\n",
    "import numpy as np\n",
    "import matplotlib.pyplot as plt"
   ]
  },
  {
   "cell_type": "code",
   "execution_count": 3,
   "id": "99f75b92-38f2-42f1-9dcf-9028e4a2b2a7",
   "metadata": {
    "tags": []
   },
   "outputs": [
    {
     "name": "stderr",
     "output_type": "stream",
     "text": [
      "2024-04-12 04:42:56.860986: I tensorflow/core/platform/cpu_feature_guard.cc:193] This TensorFlow binary is optimized with oneAPI Deep Neural Network Library (oneDNN) to use the following CPU instructions in performance-critical operations:  AVX2 FMA\n",
      "To enable them in other operations, rebuild TensorFlow with the appropriate compiler flags.\n",
      "2024-04-12 04:42:57.736350: W tensorflow/compiler/xla/stream_executor/platform/default/dso_loader.cc:64] Could not load dynamic library 'libnvinfer.so.7'; dlerror: libnvinfer.so.7: cannot open shared object file: No such file or directory; LD_LIBRARY_PATH: /usr/local/cuda/lib64:/usr/local/nccl2/lib:/usr/local/cuda/extras/CUPTI/lib64:/opt/conda/lib\n",
      "2024-04-12 04:42:57.736465: W tensorflow/compiler/xla/stream_executor/platform/default/dso_loader.cc:64] Could not load dynamic library 'libnvinfer_plugin.so.7'; dlerror: libnvinfer_plugin.so.7: cannot open shared object file: No such file or directory; LD_LIBRARY_PATH: /usr/local/cuda/lib64:/usr/local/nccl2/lib:/usr/local/cuda/extras/CUPTI/lib64:/opt/conda/lib\n",
      "2024-04-12 04:42:57.736474: W tensorflow/compiler/tf2tensorrt/utils/py_utils.cc:38] TF-TRT Warning: Cannot dlopen some TensorRT libraries. If you would like to use Nvidia GPU with TensorRT, please make sure the missing libraries mentioned above are installed properly.\n"
     ]
    }
   ],
   "source": [
    "from models.src import train_model"
   ]
  },
  {
   "cell_type": "code",
   "execution_count": 4,
   "id": "1b869293-28d0-4b9d-be51-2d5adfd38f4d",
   "metadata": {
    "tags": []
   },
   "outputs": [],
   "source": [
    "from models.src import evaluate, utils"
   ]
  },
  {
   "cell_type": "code",
   "execution_count": 11,
   "id": "1694e091-3bb1-4a37-b1e2-43775073d7be",
   "metadata": {
    "tags": []
   },
   "outputs": [],
   "source": [
    "model_list = [\"GaussianNB\",\"HistGradientBoostingClassifier\",\n",
    "                \"AdaBoostClassifier\",\n",
    "                \"RandomForestClassifier\",\n",
    "                \"KNeighborsClassifier\",\n",
    "                \"MLPClassifier\",\n",
    "                \"SVC\",\n",
    "                \"DecisionTreeClassifier\"]\n",
    "param_grid = [{},\n",
    "             {'max_leaf_nodes': [10, 20, 31], },\n",
    "             {'n_estimators': [10, 50, 100], 'algorithm': ['SAMME']},\n",
    "             {\"max_leaf_nodes\": [None, 20, 10], \"n_estimators\": [50, 100]},\n",
    "             {\"n_neighbors\": [3, 5,10,20]},\n",
    "             {'hidden_layer_sizes':[[30,]]},\n",
    "             {\"kernel\": ['rbf'], \"C\": [ 1]},\n",
    "             {}]"
   ]
  },
  {
   "cell_type": "code",
   "execution_count": 12,
   "id": "b250442a-c0a1-42ed-8546-2d4dc911a12e",
   "metadata": {
    "tags": []
   },
   "outputs": [],
   "source": [
    "outputs = []"
   ]
  },
  {
   "cell_type": "code",
   "execution_count": 13,
   "id": "81f13fb1-3a5e-41f3-9370-d23764c360a0",
   "metadata": {
    "scrolled": true,
    "tags": []
   },
   "outputs": [
    {
     "name": "stderr",
     "output_type": "stream",
     "text": [
      " 75%|███████▌  | 6/8 [00:23<00:05,  2.63s/it]/opt/conda/envs/tensorflow/lib/python3.10/site-packages/sklearn/metrics/_classification.py:1509: UndefinedMetricWarning: Precision is ill-defined and being set to 0.0 in labels with no predicted samples. Use `zero_division` parameter to control this behavior.\n",
      "  _warn_prf(average, modifier, f\"{metric.capitalize()} is\", len(result))\n",
      "/opt/conda/envs/tensorflow/lib/python3.10/site-packages/sklearn/metrics/_classification.py:1509: UndefinedMetricWarning: Precision is ill-defined and being set to 0.0 in labels with no predicted samples. Use `zero_division` parameter to control this behavior.\n",
      "  _warn_prf(average, modifier, f\"{metric.capitalize()} is\", len(result))\n",
      "/opt/conda/envs/tensorflow/lib/python3.10/site-packages/sklearn/metrics/_classification.py:1509: UndefinedMetricWarning: Precision is ill-defined and being set to 0.0 in labels with no predicted samples. Use `zero_division` parameter to control this behavior.\n",
      "  _warn_prf(average, modifier, f\"{metric.capitalize()} is\", len(result))\n",
      "100%|██████████| 8/8 [00:24<00:00,  3.01s/it]\n"
     ]
    }
   ],
   "source": [
    "for i in tqdm(range(len(model_list))):\n",
    "    \n",
    "    model_config = {\"model_type\": 'traditional', \"clf\": model_list[i], \n",
    "                   \"name\": f\"{model_list[i]}_30sec\"}\n",
    "    data_config = {\"use_file\": \"../../data/features_30_sec.csv\", # so no preprocess\n",
    "                   \"split_shuffle\": True,\n",
    "                   \"split_stratify\": True,\n",
    "                   \"train_split\": 0.7, \n",
    "                   \"test_split\": 0.15,\n",
    "                   \"seed\": 2024, }\n",
    "    train_config = {\n",
    "                    \"model_type\": \"traditional\",\n",
    "                    \"grid_search\": param_grid[i], #'max_leaf_nodes': [30, 60, 120]},\n",
    "                    \"n_folds\": 5, \n",
    "                    \"metric\": ['f1_macro', 'accuracy'], \n",
    "                    \"seed\": 2024,\n",
    "                    \"save_location\": \"../output\"\n",
    "                    }\n",
    "    outputs.append(train_model.train(model_config, data_config, train_config,))"
   ]
  },
  {
   "cell_type": "code",
   "execution_count": 14,
   "id": "ac6fd085-a971-45f2-877a-dbd8d2b7fca1",
   "metadata": {
    "tags": []
   },
   "outputs": [],
   "source": [
    "test_results = pd.DataFrame([outputs[i].results for i in range(len(model_list))])\n",
    "test_results['model'] = model_list\n",
    "test_results = test_results.iloc[:, np.r_[4, 0:4]].sort_values(by = \"accuracy\", ascending = False)"
   ]
  },
  {
   "cell_type": "code",
   "execution_count": 44,
   "id": "b23b6a12-32cc-45b3-befd-d3eed0bde6d9",
   "metadata": {
    "tags": []
   },
   "outputs": [],
   "source": [
    "test_results.to_csv(\"../output/test_results.csv\")"
   ]
  },
  {
   "cell_type": "code",
   "execution_count": 15,
   "id": "0d8228d9-7657-44cc-a902-b0811c9ae2e9",
   "metadata": {
    "tags": []
   },
   "outputs": [
    {
     "data": {
      "text/html": [
       "<div>\n",
       "<style scoped>\n",
       "    .dataframe tbody tr th:only-of-type {\n",
       "        vertical-align: middle;\n",
       "    }\n",
       "\n",
       "    .dataframe tbody tr th {\n",
       "        vertical-align: top;\n",
       "    }\n",
       "\n",
       "    .dataframe thead th {\n",
       "        text-align: right;\n",
       "    }\n",
       "</style>\n",
       "<table border=\"1\" class=\"dataframe\">\n",
       "  <thead>\n",
       "    <tr style=\"text-align: right;\">\n",
       "      <th></th>\n",
       "      <th>model</th>\n",
       "      <th>accuracy</th>\n",
       "      <th>f1-macro</th>\n",
       "      <th>worst-performing-label</th>\n",
       "      <th>best-performing-label</th>\n",
       "    </tr>\n",
       "  </thead>\n",
       "  <tbody>\n",
       "    <tr>\n",
       "      <th>1</th>\n",
       "      <td>HistGradientBoostingClassifier</td>\n",
       "      <td>0.826667</td>\n",
       "      <td>0.827316</td>\n",
       "      <td>rock</td>\n",
       "      <td>classical</td>\n",
       "    </tr>\n",
       "    <tr>\n",
       "      <th>3</th>\n",
       "      <td>RandomForestClassifier</td>\n",
       "      <td>0.800000</td>\n",
       "      <td>0.794943</td>\n",
       "      <td>reggae</td>\n",
       "      <td>classical</td>\n",
       "    </tr>\n",
       "    <tr>\n",
       "      <th>7</th>\n",
       "      <td>DecisionTreeClassifier</td>\n",
       "      <td>0.660000</td>\n",
       "      <td>0.655382</td>\n",
       "      <td>rock</td>\n",
       "      <td>classical</td>\n",
       "    </tr>\n",
       "    <tr>\n",
       "      <th>0</th>\n",
       "      <td>GaussianNB</td>\n",
       "      <td>0.440000</td>\n",
       "      <td>0.404916</td>\n",
       "      <td>country</td>\n",
       "      <td>classical</td>\n",
       "    </tr>\n",
       "    <tr>\n",
       "      <th>2</th>\n",
       "      <td>AdaBoostClassifier</td>\n",
       "      <td>0.426667</td>\n",
       "      <td>0.422347</td>\n",
       "      <td>pop</td>\n",
       "      <td>metal</td>\n",
       "    </tr>\n",
       "    <tr>\n",
       "      <th>6</th>\n",
       "      <td>SVC</td>\n",
       "      <td>0.286667</td>\n",
       "      <td>0.226399</td>\n",
       "      <td>blues</td>\n",
       "      <td>classical</td>\n",
       "    </tr>\n",
       "    <tr>\n",
       "      <th>4</th>\n",
       "      <td>KNeighborsClassifier</td>\n",
       "      <td>0.280000</td>\n",
       "      <td>0.268255</td>\n",
       "      <td>rock</td>\n",
       "      <td>classical</td>\n",
       "    </tr>\n",
       "    <tr>\n",
       "      <th>5</th>\n",
       "      <td>MLPClassifier</td>\n",
       "      <td>0.240000</td>\n",
       "      <td>0.222826</td>\n",
       "      <td>country</td>\n",
       "      <td>classical</td>\n",
       "    </tr>\n",
       "  </tbody>\n",
       "</table>\n",
       "</div>"
      ],
      "text/plain": [
       "                            model  accuracy  f1-macro worst-performing-label  \\\n",
       "1  HistGradientBoostingClassifier  0.826667  0.827316                   rock   \n",
       "3          RandomForestClassifier  0.800000  0.794943                 reggae   \n",
       "7          DecisionTreeClassifier  0.660000  0.655382                   rock   \n",
       "0                      GaussianNB  0.440000  0.404916                country   \n",
       "2              AdaBoostClassifier  0.426667  0.422347                    pop   \n",
       "6                             SVC  0.286667  0.226399                  blues   \n",
       "4            KNeighborsClassifier  0.280000  0.268255                   rock   \n",
       "5                   MLPClassifier  0.240000  0.222826                country   \n",
       "\n",
       "  best-performing-label  \n",
       "1             classical  \n",
       "3             classical  \n",
       "7             classical  \n",
       "0             classical  \n",
       "2                 metal  \n",
       "6             classical  \n",
       "4             classical  \n",
       "5             classical  "
      ]
     },
     "execution_count": 15,
     "metadata": {},
     "output_type": "execute_result"
    }
   ],
   "source": [
    "test_results"
   ]
  },
  {
   "cell_type": "code",
   "execution_count": 16,
   "id": "ddac7ff1-0588-4c50-83fe-a57684dc8e81",
   "metadata": {
    "tags": []
   },
   "outputs": [],
   "source": [
    "cv_results = pd.DataFrame([outputs[i].search.cv_results_ for i in range(len(model_list))])\n",
    "cv_results['model'] = model_list"
   ]
  },
  {
   "cell_type": "code",
   "execution_count": 19,
   "id": "59e5831a-a979-4d2b-bcb3-9187148cf723",
   "metadata": {
    "tags": []
   },
   "outputs": [],
   "source": [
    "# cv_results = utils.explode(cv_results, list(set(cv_results.columns)-{'model'}))"
   ]
  },
  {
   "cell_type": "code",
   "execution_count": 20,
   "id": "da266b1c-ee8c-499d-af19-9c2b841f3d66",
   "metadata": {
    "tags": []
   },
   "outputs": [],
   "source": [
    "# cv_results"
   ]
  },
  {
   "cell_type": "code",
   "execution_count": null,
   "id": "ecc11d3f-e7aa-406d-9f3e-29386c8dcf7d",
   "metadata": {},
   "outputs": [],
   "source": []
  }
 ],
 "metadata": {
  "environment": {
   "kernel": "conda-env-tensorflow-tensorflow",
   "name": "workbench-notebooks.m118",
   "type": "gcloud",
   "uri": "us-docker.pkg.dev/deeplearning-platform-release/gcr.io/workbench-notebooks:m118"
  },
  "kernelspec": {
   "display_name": "TensorFlow 2-11 (Local)",
   "language": "python",
   "name": "conda-env-tensorflow-tensorflow"
  },
  "language_info": {
   "codemirror_mode": {
    "name": "ipython",
    "version": 3
   },
   "file_extension": ".py",
   "mimetype": "text/x-python",
   "name": "python",
   "nbconvert_exporter": "python",
   "pygments_lexer": "ipython3",
   "version": "3.10.13"
  }
 },
 "nbformat": 4,
 "nbformat_minor": 5
}
